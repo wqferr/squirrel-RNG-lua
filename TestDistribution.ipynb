{
 "cells": [
  {
   "cell_type": "code",
   "execution_count": 22,
   "id": "1c8ad5c7-a293-4263-93b6-151b4a957e06",
   "metadata": {},
   "outputs": [],
   "source": [
    "import pandas as pd\n",
    "import struct"
   ]
  },
  {
   "cell_type": "code",
   "execution_count": 23,
   "id": "9182cb1e-aa3d-4563-a311-94e263c98763",
   "metadata": {},
   "outputs": [],
   "source": [
    "n = 100_000"
   ]
  },
  {
   "cell_type": "code",
   "execution_count": 35,
   "id": "d39ec997-d821-44bc-a37e-8098be45a5ab",
   "metadata": {},
   "outputs": [
    {
     "name": "stdout",
     "output_type": "stream",
     "text": [
      "4.6566128752458e-010\n",
      "2147483647\n"
     ]
    },
    {
     "name": "stderr",
     "output_type": "stream",
     "text": [
      "========================================\n",
      "1 warning:\n",
      ".\\src/sqrl-rng.tl:114:14: unused type PRNG: type record PRNG\n",
      "----------------------------------------\n",
      "1 warning\n"
     ]
    }
   ],
   "source": [
    "!tl.bat run produce.tl \"$n\""
   ]
  },
  {
   "cell_type": "code",
   "execution_count": 36,
   "id": "49a87b3d-dc91-4748-9866-bf7e5e277d14",
   "metadata": {},
   "outputs": [],
   "source": [
    "nums = []\n",
    "with open(\"output.vals\", \"rb\") as f:\n",
    "    while True:\n",
    "        b = f.read(4)\n",
    "        if b == b\"\":\n",
    "            break\n",
    "        # x = int.from_bytes(b, byteorder=\"big\")\n",
    "        x = struct.unpack(\"f\", b)\n",
    "        nums.append(x)"
   ]
  },
  {
   "cell_type": "code",
   "execution_count": 37,
   "id": "aa18b56d-e040-4531-b5e2-21126afab41c",
   "metadata": {},
   "outputs": [
    {
     "data": {
      "text/html": [
       "<div>\n",
       "<style scoped>\n",
       "    .dataframe tbody tr th:only-of-type {\n",
       "        vertical-align: middle;\n",
       "    }\n",
       "\n",
       "    .dataframe tbody tr th {\n",
       "        vertical-align: top;\n",
       "    }\n",
       "\n",
       "    .dataframe thead th {\n",
       "        text-align: right;\n",
       "    }\n",
       "</style>\n",
       "<table border=\"1\" class=\"dataframe\">\n",
       "  <thead>\n",
       "    <tr style=\"text-align: right;\">\n",
       "      <th></th>\n",
       "      <th>0</th>\n",
       "    </tr>\n",
       "  </thead>\n",
       "  <tbody>\n",
       "    <tr>\n",
       "      <th>0</th>\n",
       "      <td>-0.353722</td>\n",
       "    </tr>\n",
       "    <tr>\n",
       "      <th>1</th>\n",
       "      <td>0.580655</td>\n",
       "    </tr>\n",
       "    <tr>\n",
       "      <th>2</th>\n",
       "      <td>0.123476</td>\n",
       "    </tr>\n",
       "    <tr>\n",
       "      <th>3</th>\n",
       "      <td>-0.807344</td>\n",
       "    </tr>\n",
       "    <tr>\n",
       "      <th>4</th>\n",
       "      <td>0.870188</td>\n",
       "    </tr>\n",
       "  </tbody>\n",
       "</table>\n",
       "</div>"
      ],
      "text/plain": [
       "          0\n",
       "0 -0.353722\n",
       "1  0.580655\n",
       "2  0.123476\n",
       "3 -0.807344\n",
       "4  0.870188"
      ]
     },
     "execution_count": 37,
     "metadata": {},
     "output_type": "execute_result"
    }
   ],
   "source": [
    "data = pd.DataFrame(nums)\n",
    "data.head()"
   ]
  },
  {
   "cell_type": "code",
   "execution_count": 38,
   "id": "4460e268-c022-4941-9829-2d6fb6d47310",
   "metadata": {},
   "outputs": [
    {
     "data": {
      "text/plain": [
       "array([[<Axes: title={'center': '0'}>]], dtype=object)"
      ]
     },
     "execution_count": 38,
     "metadata": {},
     "output_type": "execute_result"
    },
    {
     "data": {
      "image/png": "[encoded data removed]",
      "text/plain": [
       "<Figure size 640x480 with 1 Axes>"
      ]
     },
     "metadata": {},
     "output_type": "display_data"
    }
   ],
   "source": [
    "data.hist(range=(-5, 5))"
   ]
  },
  {
   "cell_type": "code",
   "execution_count": 39,
   "id": "346a5329-6a04-4f95-9593-79bd19f74af1",
   "metadata": {},
   "outputs": [
    {
     "data": {
      "text/plain": [
       "0    0.999984\n",
       "dtype: float64"
      ]
     },
     "execution_count": 39,
     "metadata": {},
     "output_type": "execute_result"
    }
   ],
   "source": [
    "data.max()"
   ]
  },
  {
   "cell_type": "code",
   "execution_count": 40,
   "id": "4fd3d2d7-98bb-4749-8957-ef41400534ff",
   "metadata": {},
   "outputs": [
    {
     "data": {
      "text/plain": [
       "0   -0.999987\n",
       "dtype: float64"
      ]
     },
     "execution_count": 40,
     "metadata": {},
     "output_type": "execute_result"
    }
   ],
   "source": [
    "data.min()"
   ]
  }
 ],
 "metadata": {
  "kernelspec": {
   "display_name": "Python 3 (ipykernel)",
   "language": "python",
   "name": "python3"
  },
  "language_info": {
   "codemirror_mode": {
    "name": "ipython",
    "version": 3
   },
   "file_extension": ".py",
   "mimetype": "text/x-python",
   "name": "python",
   "nbconvert_exporter": "python",
   "pygments_lexer": "ipython3",
   "version": "3.10.6"
  }
 },
 "nbformat": 4,
 "nbformat_minor": 5
}
