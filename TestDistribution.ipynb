{
 "cells": [
  {
   "cell_type": "code",
   "execution_count": 11,
   "id": "1c8ad5c7-a293-4263-93b6-151b4a957e06",
   "metadata": {},
   "outputs": [],
   "source": [
    "import pandas as pd\n",
    "import struct"
   ]
  },
  {
   "cell_type": "code",
   "execution_count": 12,
   "id": "9182cb1e-aa3d-4563-a311-94e263c98763",
   "metadata": {},
   "outputs": [],
   "source": [
    "n = 100_000"
   ]
  },
  {
   "cell_type": "code",
   "execution_count": 21,
   "id": "d39ec997-d821-44bc-a37e-8098be45a5ab",
   "metadata": {},
   "outputs": [
    {
     "name": "stdout",
     "output_type": "stream",
     "text": [
      "4.6566128752458e-010\n"
     ]
    }
   ],
   "source": [
    "!tl.bat run produce.tl \"$n\""
   ]
  },
  {
   "cell_type": "code",
   "execution_count": 22,
   "id": "49a87b3d-dc91-4748-9866-bf7e5e277d14",
   "metadata": {},
   "outputs": [],
   "source": [
    "nums = []\n",
    "with open(\"output.vals\", \"rb\") as f:\n",
    "    while True:\n",
    "        b = f.read(4)\n",
    "        if b == b\"\":\n",
    "            break\n",
    "        # x = int.from_bytes(b, byteorder=\"big\")\n",
    "        x = struct.unpack(\"f\", b)\n",
    "        nums.append(x)"
   ]
  },
  {
   "cell_type": "code",
   "execution_count": 23,
   "id": "aa18b56d-e040-4531-b5e2-21126afab41c",
   "metadata": {},
   "outputs": [
    {
     "data": {
      "text/html": [
       "<div>\n",
       "<style scoped>\n",
       "    .dataframe tbody tr th:only-of-type {\n",
       "        vertical-align: middle;\n",
       "    }\n",
       "\n",
       "    .dataframe tbody tr th {\n",
       "        vertical-align: top;\n",
       "    }\n",
       "\n",
       "    .dataframe thead th {\n",
       "        text-align: right;\n",
       "    }\n",
       "</style>\n",
       "<table border=\"1\" class=\"dataframe\">\n",
       "  <thead>\n",
       "    <tr style=\"text-align: right;\">\n",
       "      <th></th>\n",
       "      <th>0</th>\n",
       "    </tr>\n",
       "  </thead>\n",
       "  <tbody>\n",
       "    <tr>\n",
       "      <th>0</th>\n",
       "      <td>-0.632906</td>\n",
       "    </tr>\n",
       "    <tr>\n",
       "      <th>1</th>\n",
       "      <td>-0.353722</td>\n",
       "    </tr>\n",
       "    <tr>\n",
       "      <th>2</th>\n",
       "      <td>0.580655</td>\n",
       "    </tr>\n",
       "    <tr>\n",
       "      <th>3</th>\n",
       "      <td>0.123476</td>\n",
       "    </tr>\n",
       "    <tr>\n",
       "      <th>4</th>\n",
       "      <td>-0.807344</td>\n",
       "    </tr>\n",
       "  </tbody>\n",
       "</table>\n",
       "</div>"
      ],
      "text/plain": [
       "          0\n",
       "0 -0.632906\n",
       "1 -0.353722\n",
       "2  0.580655\n",
       "3  0.123476\n",
       "4 -0.807344"
      ]
     },
     "execution_count": 23,
     "metadata": {},
     "output_type": "execute_result"
    }
   ],
   "source": [
    "data = pd.DataFrame(nums)\n",
    "data.head()"
   ]
  },
  {
   "cell_type": "code",
   "execution_count": 24,
   "id": "4460e268-c022-4941-9829-2d6fb6d47310",
   "metadata": {},
   "outputs": [
    {
     "data": {
      "text/plain": [
       "array([[<Axes: title={'center': '0'}>]], dtype=object)"
      ]
     },
     "execution_count": 24,
     "metadata": {},
     "output_type": "execute_result"
    },
    {
     "data": {
      "image/png": "[encoded data removed]",
      "text/plain": [
       "<Figure size 640x480 with 1 Axes>"
      ]
     },
     "metadata": {},
     "output_type": "display_data"
    }
   ],
   "source": [
    "data.hist()"
   ]
  },
  {
   "cell_type": "code",
   "execution_count": 7,
   "id": "346a5329-6a04-4f95-9593-79bd19f74af1",
   "metadata": {},
   "outputs": [
    {
     "data": {
      "text/plain": [
       "0    0.999992\n",
       "dtype: float64"
      ]
     },
     "execution_count": 7,
     "metadata": {},
     "output_type": "execute_result"
    }
   ],
   "source": [
    "data.max()"
   ]
  },
  {
   "cell_type": "code",
   "execution_count": 8,
   "id": "4fd3d2d7-98bb-4749-8957-ef41400534ff",
   "metadata": {},
   "outputs": [
    {
     "data": {
      "text/plain": [
       "0    0.000007\n",
       "dtype: float64"
      ]
     },
     "execution_count": 8,
     "metadata": {},
     "output_type": "execute_result"
    }
   ],
   "source": [
    "data.min()"
   ]
  }
 ],
 "metadata": {
  "kernelspec": {
   "display_name": "Python 3 (ipykernel)",
   "language": "python",
   "name": "python3"
  },
  "language_info": {
   "codemirror_mode": {
    "name": "ipython",
    "version": 3
   },
   "file_extension": ".py",
   "mimetype": "text/x-python",
   "name": "python",
   "nbconvert_exporter": "python",
   "pygments_lexer": "ipython3",
   "version": "3.10.6"
  }
 },
 "nbformat": 4,
 "nbformat_minor": 5
}
